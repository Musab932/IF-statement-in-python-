{
 "cells": [
  {
   "cell_type": "code",
   "execution_count": 3,
   "id": "0db62c5e-7029-42b7-8b40-0839845bca6b",
   "metadata": {},
   "outputs": [
    {
     "name": "stdin",
     "output_type": "stream",
     "text": [
      "Enter Number: 76\n"
     ]
    },
    {
     "name": "stdout",
     "output_type": "stream",
     "text": [
      "76 is even and greater than 10\n"
     ]
    }
   ],
   "source": [
    "number=int(input(\"Enter Number:\"))\n",
    "if number%2==0:\n",
    "    if number>10:\n",
    "        print(f\"{number} is even and greater than 10\")\n",
    "    else:\n",
    "        print(f\"{number}is even and less than 10\")\n",
    "else:\n",
    "    print(number,\" is odd\")\n",
    "    "
   ]
  },
  {
   "cell_type": "code",
   "execution_count": 10,
   "id": "39ffb5b3-d309-422a-b518-3810bbccd2fe",
   "metadata": {},
   "outputs": [
    {
     "name": "stdin",
     "output_type": "stream",
     "text": [
      "Enter your age:  17\n"
     ]
    },
    {
     "name": "stdout",
     "output_type": "stream",
     "text": [
      "Eligble for discount\n"
     ]
    }
   ],
   "source": [
    "age = int(input(\"Enter your age: \"))\n",
    "if age < 18 or age > 60:\n",
    "    print(\"Eligble for discount\")\n",
    "else:\n",
    "    print(\"not eligle\")"
   ]
  },
  {
   "cell_type": "code",
   "execution_count": 32,
   "id": "05fb402e-3f11-47bd-ab68-25400342b516",
   "metadata": {},
   "outputs": [
    {
     "name": "stdin",
     "output_type": "stream",
     "text": [
      "Enter a number:  3\n"
     ]
    }
   ],
   "source": [
    "input_given =(input(\"Enter a number: \"))\n",
    "x=(type(input_given))\n",
    "if x == int or x == float:\n",
    "    if input_given >0:\n",
    "      print(input_given,\" is positive \")\n",
    "       \n",
    "        "
   ]
  },
  {
   "cell_type": "code",
   "execution_count": null,
   "id": "08ce83ca-31d7-4ce2-97ba-27e261b790c4",
   "metadata": {},
   "outputs": [],
   "source": [
    "int a,b,c;\n",
    " scanf(\"%d,%d,%d\",&a,&b,&c);\n",
    "if(a>b&&a>c)||(b>a&&b>c)||(c>a&&c>b)\n",
    "\n"
   ]
  }
 ],
 "metadata": {
  "kernelspec": {
   "display_name": "Python 3 (ipykernel)",
   "language": "python",
   "name": "python3"
  },
  "language_info": {
   "codemirror_mode": {
    "name": "ipython",
    "version": 3
   },
   "file_extension": ".py",
   "mimetype": "text/x-python",
   "name": "python",
   "nbconvert_exporter": "python",
   "pygments_lexer": "ipython3",
   "version": "3.12.4"
  }
 },
 "nbformat": 4,
 "nbformat_minor": 5
}
